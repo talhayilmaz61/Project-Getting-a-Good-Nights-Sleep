{
 "cells": [
  {
   "cell_type": "code",
   "execution_count": 40,
   "id": "a622f61f-54d5-468a-83b6-41f0ff404278",
   "metadata": {
    "executionCancelledAt": null,
    "executionTime": 30,
    "lastExecutedAt": 1730737941068,
    "lastExecutedByKernel": "9bfdac21-3c64-48e2-a983-bad8c2d90cd2",
    "lastScheduledRunId": null,
    "lastSuccessfullyExecutedCode": "import pandas as pd\n\nsleep_df = pd.read_csv(\"sleep_health_data.csv\")\n\nlowest_sleep_occupation = sleep_df.groupby(\"Occupation\").agg(min_sleep=(\"Sleep Duration\", \"mean\")).sort_values(by=\"min_sleep\", ascending=True).iloc[0]\nprint(lowest_sleep_occupation)\n\nlowest_sleep_occ = \"Sales Representative\"\n\naverage_sleep_q_occ = sleep_df.groupby(\"Occupation\").agg(mean_quality=(\"Quality of Sleep\", \"mean\")).sort_values(by=\"mean_quality\", ascending=True).iloc[0]\nprint(average_sleep_q_occ)\n\nlowest_sleep_quality_occ = \"Sales Representative\"\n\nsame_occ = True\n\nbmi_insomnia_ratios = {\n    \"Normal\": round(\n        sleep_df[(sleep_df[\"BMI Category\"] == \"Normal\") & (sleep_df[\"Sleep Disorder\"] == \"Insomnia\")].shape[0]\n        / sleep_df[sleep_df[\"BMI Category\"] == \"Normal\"].shape[0], 2\n    ),\n    \"Overweight\": round(\n        sleep_df[(sleep_df[\"BMI Category\"] == \"Overweight\") & (sleep_df[\"Sleep Disorder\"] == \"Insomnia\")].shape[0]\n        / sleep_df[sleep_df[\"BMI Category\"] == \"Overweight\"].shape[0], 2\n    ),\n    \"Obese\": round(\n        sleep_df[(sleep_df[\"BMI Category\"] == \"Obese\") & (sleep_df[\"Sleep Disorder\"] == \"Insomnia\")].shape[0]\n        / sleep_df[sleep_df[\"BMI Category\"] == \"Obese\"].shape[0], 2\n    )\n}\n",
    "outputsMetadata": {
     "0": {
      "height": 101,
      "type": "stream"
     }
    }
   },
   "outputs": [
    {
     "name": "stdout",
     "output_type": "stream",
     "text": [
      "min_sleep    5.9\n",
      "Name: Sales Representative, dtype: float64\n",
      "mean_quality    4.0\n",
      "Name: Sales Representative, dtype: float64\n"
     ]
    }
   ],
   "source": [
    "import pandas as pd\n",
    "\n",
    "sleep_df = pd.read_csv(\"sleep_health_data.csv\")\n",
    "\n",
    "lowest_sleep_occupation = sleep_df.groupby(\"Occupation\").agg(min_sleep=(\"Sleep Duration\", \"mean\")).sort_values(by=\"min_sleep\", ascending=True).iloc[0]\n",
    "print(lowest_sleep_occupation)\n",
    "\n",
    "lowest_sleep_occ = \"Sales Representative\"\n",
    "\n",
    "average_sleep_q_occ = sleep_df.groupby(\"Occupation\").agg(mean_quality=(\"Quality of Sleep\", \"mean\")).sort_values(by=\"mean_quality\", ascending=True).iloc[0]\n",
    "print(average_sleep_q_occ)\n",
    "\n",
    "lowest_sleep_quality_occ = \"Sales Representative\"\n",
    "\n",
    "same_occ = True\n",
    "\n",
    "bmi_insomnia_ratios = {\n",
    "    \"Normal\": round(\n",
    "        sleep_df[(sleep_df[\"BMI Category\"] == \"Normal\") & (sleep_df[\"Sleep Disorder\"] == \"Insomnia\")].shape[0]\n",
    "        / sleep_df[sleep_df[\"BMI Category\"] == \"Normal\"].shape[0], 2\n",
    "    ),\n",
    "    \"Overweight\": round(\n",
    "        sleep_df[(sleep_df[\"BMI Category\"] == \"Overweight\") & (sleep_df[\"Sleep Disorder\"] == \"Insomnia\")].shape[0]\n",
    "        / sleep_df[sleep_df[\"BMI Category\"] == \"Overweight\"].shape[0], 2\n",
    "    ),\n",
    "    \"Obese\": round(\n",
    "        sleep_df[(sleep_df[\"BMI Category\"] == \"Obese\") & (sleep_df[\"Sleep Disorder\"] == \"Insomnia\")].shape[0]\n",
    "        / sleep_df[sleep_df[\"BMI Category\"] == \"Obese\"].shape[0], 2\n",
    "    )\n",
    "}\n"
   ]
  }
 ],
 "metadata": {
  "colab": {
   "name": "Welcome to DataCamp Workspaces.ipynb",
   "provenance": []
  },
  "kernelspec": {
   "display_name": "Python 3 (ipykernel)",
   "language": "python",
   "name": "python3"
  },
  "language_info": {
   "codemirror_mode": {
    "name": "ipython",
    "version": 3
   },
   "file_extension": ".py",
   "mimetype": "text/x-python",
   "name": "python",
   "nbconvert_exporter": "python",
   "pygments_lexer": "ipython3",
   "version": "3.8.10"
  }
 },
 "nbformat": 4,
 "nbformat_minor": 5
}
